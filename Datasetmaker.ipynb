{
 "cells": [
  {
   "cell_type": "code",
   "execution_count": null,
   "metadata": {},
   "outputs": [],
   "source": [
    "import pandas\n",
    "import openai\n",
    "\n",
    "import os\n",
    "import json\n",
    "from langchain.llms import OpenAI"
   ]
  },
  {
   "cell_type": "code",
   "execution_count": null,
   "metadata": {},
   "outputs": [],
   "source": [
    "ds=pandas.read_csv(\"complete_menu_items.csv\")"
   ]
  },
  {
   "cell_type": "code",
   "execution_count": null,
   "metadata": {},
   "outputs": [],
   "source": [
    "ds.dropna(inplace=True)\n"
   ]
  },
  {
   "cell_type": "code",
   "execution_count": null,
   "metadata": {},
   "outputs": [],
   "source": [
    "ds_dallas = ds[ds[\"full_address\"].str.contains(\"Dallas,\\sTX,\\s\\d{5}\")]\n",
    "ds_dallas_75243=ds_dallas[ds_dallas[\"full_address\"].str.contains(\"75243\")]\n",
    "ds_dallas_75243"
   ]
  },
  {
   "cell_type": "code",
   "execution_count": null,
   "metadata": {},
   "outputs": [],
   "source": [
    "dd7=ds_dallas_75243[[\"item_name\",\"description\",\"restaurant_name\",\"score\",\"price\"]]\n",
    "dd7"
   ]
  },
  {
   "cell_type": "code",
   "execution_count": null,
   "metadata": {},
   "outputs": [],
   "source": [
    "dd7=dd7.sample(frac=1)\n",
    "dd7"
   ]
  },
  {
   "cell_type": "code",
   "execution_count": null,
   "metadata": {},
   "outputs": [],
   "source": [
    "\n",
    "openai.api_key=\"\"\n",
    "client=openai.OpenAI()\n"
   ]
  },
  {
   "cell_type": "code",
   "execution_count": null,
   "metadata": {},
   "outputs": [],
   "source": [
    "nutrients = \"Protiens, Minerals, Vitamins, Carbohydrates, Fats, Fibers, Sugars\"\n",
    "system_prompt=\"You are to generate a CSV output with the following columns: item_name, description, restaurant_name, score, price, \"+nutrients+\", Calories,dish_type,primary_Flavour,Secondary_Flavour. The values of columns \"+nutrients+\" should be one of Low,Medium,High. Calorie should have a numeric .Dish_type is the type of dish. Primary_Flavour is the primary flavour of the dish and Secondary_Flavour is the secondary flavour of the dish.The possible flavours are Sweet, Spicy, Savory, Umami, Tangy, Refreshing, Rich, Creamy, Earthy, Nutty, Bitter, Herbal, Smoky, Charred.Base these values on item name and description, which will be provided by the user.\"\n",
    "print(system_prompt)"
   ]
  },
  {
   "cell_type": "code",
   "execution_count": null,
   "metadata": {},
   "outputs": [],
   "source": [
    "out=[]\n",
    "for i in range (0,150):\n",
    "    i_n=dd7.iloc[i,0]\n",
    "    i_d=dd7.iloc[i,1]\n",
    "    i_s=dd7.iloc[i,3]\n",
    "    i_p=dd7.iloc[i,4]\n",
    "    response= client.chat.completions.create(model=\"gpt-3.5-turbo\",messages=[{\"role\":\"system\",\"content\":system_prompt},{\"role\":\"user\",\"content\":f\"Item Name: {i_n} Description: {i_d} Score: {i_s} Price: {i_p}\"}])\n",
    "    out.append(response.choices[0].message.content.split(\"\\n\"))\n"
   ]
  },
  {
   "cell_type": "code",
   "execution_count": null,
   "metadata": {},
   "outputs": [],
   "source": [
    "print(out)"
   ]
  },
  {
   "cell_type": "code",
   "execution_count": null,
   "metadata": {},
   "outputs": [],
   "source": [
    "print(len(out))\n"
   ]
  },
  {
   "cell_type": "code",
   "execution_count": null,
   "metadata": {},
   "outputs": [],
   "source": [
    "import time"
   ]
  },
  {
   "cell_type": "code",
   "execution_count": null,
   "metadata": {},
   "outputs": [],
   "source": [
    "out"
   ]
  },
  {
   "cell_type": "code",
   "execution_count": null,
   "metadata": {},
   "outputs": [],
   "source": [
    "len(out)"
   ]
  },
  {
   "cell_type": "code",
   "execution_count": null,
   "metadata": {},
   "outputs": [],
   "source": [
    "for i in range (130,150):\n",
    "    while True:\n",
    "        try:\n",
    "            i_n=dd7.iloc[i,0]\n",
    "            i_d=dd7.iloc[i,1]\n",
    "            i_s=dd7.iloc[i,3]\n",
    "            i_p=dd7.iloc[i,4]\n",
    "            response= client.chat.completions.create(model=\"gpt-3.5-turbo\",messages=[{\"role\":\"system\",\"content\":system_prompt},{\"role\":\"user\",\"content\":f\"Item Name: {i_n} Description: {i_d} Score: {i_s} Price: {i_p}\"}])\n",
    "            out.append(response.choices[0].message.content.split(\"\\n\"))\n",
    "        except:\n",
    "            time.sleep(20)\n",
    "            print('error')"
   ]
  }
 ],
 "metadata": {
  "kernelspec": {
   "display_name": "space",
   "language": "python",
   "name": "python3"
  },
  "language_info": {
   "codemirror_mode": {
    "name": "ipython",
    "version": 3
   },
   "file_extension": ".py",
   "mimetype": "text/x-python",
   "name": "python",
   "nbconvert_exporter": "python",
   "pygments_lexer": "ipython3",
   "version": "3.9.13"
  }
 },
 "nbformat": 4,
 "nbformat_minor": 2
}
