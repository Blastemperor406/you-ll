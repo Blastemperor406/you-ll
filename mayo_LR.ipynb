{
 "cells": [
  {
   "cell_type": "code",
   "execution_count": 24,
   "metadata": {},
   "outputs": [],
   "source": [
    "from scipy.optimize import minimize\n",
    "import pandas as pd\n",
    "import matplotlib.pyplot as plt\n",
    "import numpy as np\n",
    "from scipy.optimize import curve_fit\n",
    "from sklearn.metrics import mean_squared_error\n"
   ]
  },
  {
   "cell_type": "code",
   "execution_count": 2,
   "metadata": {},
   "outputs": [],
   "source": [
    "ds=pd.read_csv('/Users/yashagarwal/Darsh/hackathon/OPEN Hack/repo_sync_YouCal/inputs.csv')"
   ]
  },
  {
   "cell_type": "code",
   "execution_count": 3,
   "metadata": {},
   "outputs": [
    {
     "data": {
      "text/html": [
       "<div>\n",
       "<style scoped>\n",
       "    .dataframe tbody tr th:only-of-type {\n",
       "        vertical-align: middle;\n",
       "    }\n",
       "\n",
       "    .dataframe tbody tr th {\n",
       "        vertical-align: top;\n",
       "    }\n",
       "\n",
       "    .dataframe thead th {\n",
       "        text-align: right;\n",
       "    }\n",
       "</style>\n",
       "<table border=\"1\" class=\"dataframe\">\n",
       "  <thead>\n",
       "    <tr style=\"text-align: right;\">\n",
       "      <th></th>\n",
       "      <th>Unnamed: 0</th>\n",
       "      <th>Sex</th>\n",
       "      <th>Age</th>\n",
       "      <th>Height</th>\n",
       "      <th>Weight</th>\n",
       "      <th>Activity</th>\n",
       "      <th>Expected Calories</th>\n",
       "    </tr>\n",
       "  </thead>\n",
       "  <tbody>\n",
       "    <tr>\n",
       "      <th>0</th>\n",
       "      <td>0</td>\n",
       "      <td>1</td>\n",
       "      <td>18</td>\n",
       "      <td>199</td>\n",
       "      <td>79</td>\n",
       "      <td>3</td>\n",
       "      <td>2450</td>\n",
       "    </tr>\n",
       "    <tr>\n",
       "      <th>1</th>\n",
       "      <td>1</td>\n",
       "      <td>1</td>\n",
       "      <td>18</td>\n",
       "      <td>199</td>\n",
       "      <td>93</td>\n",
       "      <td>3</td>\n",
       "      <td>2650</td>\n",
       "    </tr>\n",
       "    <tr>\n",
       "      <th>2</th>\n",
       "      <td>2</td>\n",
       "      <td>1</td>\n",
       "      <td>18</td>\n",
       "      <td>199</td>\n",
       "      <td>107</td>\n",
       "      <td>3</td>\n",
       "      <td>2850</td>\n",
       "    </tr>\n",
       "    <tr>\n",
       "      <th>3</th>\n",
       "      <td>3</td>\n",
       "      <td>0</td>\n",
       "      <td>20</td>\n",
       "      <td>140</td>\n",
       "      <td>39</td>\n",
       "      <td>3</td>\n",
       "      <td>1700</td>\n",
       "    </tr>\n",
       "    <tr>\n",
       "      <th>4</th>\n",
       "      <td>4</td>\n",
       "      <td>0</td>\n",
       "      <td>20</td>\n",
       "      <td>140</td>\n",
       "      <td>46</td>\n",
       "      <td>3</td>\n",
       "      <td>1800</td>\n",
       "    </tr>\n",
       "    <tr>\n",
       "      <th>...</th>\n",
       "      <td>...</td>\n",
       "      <td>...</td>\n",
       "      <td>...</td>\n",
       "      <td>...</td>\n",
       "      <td>...</td>\n",
       "      <td>...</td>\n",
       "      <td>...</td>\n",
       "    </tr>\n",
       "    <tr>\n",
       "      <th>241</th>\n",
       "      <td>241</td>\n",
       "      <td>1</td>\n",
       "      <td>96</td>\n",
       "      <td>154</td>\n",
       "      <td>56</td>\n",
       "      <td>4</td>\n",
       "      <td>1700</td>\n",
       "    </tr>\n",
       "    <tr>\n",
       "      <th>242</th>\n",
       "      <td>242</td>\n",
       "      <td>1</td>\n",
       "      <td>96</td>\n",
       "      <td>154</td>\n",
       "      <td>64</td>\n",
       "      <td>4</td>\n",
       "      <td>1850</td>\n",
       "    </tr>\n",
       "    <tr>\n",
       "      <th>243</th>\n",
       "      <td>243</td>\n",
       "      <td>0</td>\n",
       "      <td>97</td>\n",
       "      <td>186</td>\n",
       "      <td>69</td>\n",
       "      <td>3</td>\n",
       "      <td>1850</td>\n",
       "    </tr>\n",
       "    <tr>\n",
       "      <th>244</th>\n",
       "      <td>244</td>\n",
       "      <td>0</td>\n",
       "      <td>97</td>\n",
       "      <td>186</td>\n",
       "      <td>81</td>\n",
       "      <td>3</td>\n",
       "      <td>2100</td>\n",
       "    </tr>\n",
       "    <tr>\n",
       "      <th>245</th>\n",
       "      <td>245</td>\n",
       "      <td>0</td>\n",
       "      <td>97</td>\n",
       "      <td>186</td>\n",
       "      <td>93</td>\n",
       "      <td>3</td>\n",
       "      <td>2350</td>\n",
       "    </tr>\n",
       "  </tbody>\n",
       "</table>\n",
       "<p>246 rows × 7 columns</p>\n",
       "</div>"
      ],
      "text/plain": [
       "     Unnamed: 0  Sex  Age  Height  Weight  Activity  Expected Calories\n",
       "0             0    1   18     199      79         3               2450\n",
       "1             1    1   18     199      93         3               2650\n",
       "2             2    1   18     199     107         3               2850\n",
       "3             3    0   20     140      39         3               1700\n",
       "4             4    0   20     140      46         3               1800\n",
       "..          ...  ...  ...     ...     ...       ...                ...\n",
       "241         241    1   96     154      56         4               1700\n",
       "242         242    1   96     154      64         4               1850\n",
       "243         243    0   97     186      69         3               1850\n",
       "244         244    0   97     186      81         3               2100\n",
       "245         245    0   97     186      93         3               2350\n",
       "\n",
       "[246 rows x 7 columns]"
      ]
     },
     "execution_count": 3,
     "metadata": {},
     "output_type": "execute_result"
    }
   ],
   "source": [
    "ds"
   ]
  },
  {
   "cell_type": "code",
   "execution_count": 4,
   "metadata": {},
   "outputs": [],
   "source": [
    "ds.drop(['Unnamed: 0'],axis=1,inplace=True)"
   ]
  },
  {
   "cell_type": "code",
   "execution_count": 5,
   "metadata": {},
   "outputs": [
    {
     "data": {
      "text/html": [
       "<div>\n",
       "<style scoped>\n",
       "    .dataframe tbody tr th:only-of-type {\n",
       "        vertical-align: middle;\n",
       "    }\n",
       "\n",
       "    .dataframe tbody tr th {\n",
       "        vertical-align: top;\n",
       "    }\n",
       "\n",
       "    .dataframe thead th {\n",
       "        text-align: right;\n",
       "    }\n",
       "</style>\n",
       "<table border=\"1\" class=\"dataframe\">\n",
       "  <thead>\n",
       "    <tr style=\"text-align: right;\">\n",
       "      <th></th>\n",
       "      <th>Sex</th>\n",
       "      <th>Age</th>\n",
       "      <th>Height</th>\n",
       "      <th>Weight</th>\n",
       "      <th>Activity</th>\n",
       "      <th>Expected Calories</th>\n",
       "    </tr>\n",
       "  </thead>\n",
       "  <tbody>\n",
       "    <tr>\n",
       "      <th>0</th>\n",
       "      <td>1</td>\n",
       "      <td>18</td>\n",
       "      <td>199</td>\n",
       "      <td>79</td>\n",
       "      <td>3</td>\n",
       "      <td>2450</td>\n",
       "    </tr>\n",
       "    <tr>\n",
       "      <th>1</th>\n",
       "      <td>1</td>\n",
       "      <td>18</td>\n",
       "      <td>199</td>\n",
       "      <td>93</td>\n",
       "      <td>3</td>\n",
       "      <td>2650</td>\n",
       "    </tr>\n",
       "    <tr>\n",
       "      <th>2</th>\n",
       "      <td>1</td>\n",
       "      <td>18</td>\n",
       "      <td>199</td>\n",
       "      <td>107</td>\n",
       "      <td>3</td>\n",
       "      <td>2850</td>\n",
       "    </tr>\n",
       "    <tr>\n",
       "      <th>3</th>\n",
       "      <td>0</td>\n",
       "      <td>20</td>\n",
       "      <td>140</td>\n",
       "      <td>39</td>\n",
       "      <td>3</td>\n",
       "      <td>1700</td>\n",
       "    </tr>\n",
       "    <tr>\n",
       "      <th>4</th>\n",
       "      <td>0</td>\n",
       "      <td>20</td>\n",
       "      <td>140</td>\n",
       "      <td>46</td>\n",
       "      <td>3</td>\n",
       "      <td>1800</td>\n",
       "    </tr>\n",
       "    <tr>\n",
       "      <th>...</th>\n",
       "      <td>...</td>\n",
       "      <td>...</td>\n",
       "      <td>...</td>\n",
       "      <td>...</td>\n",
       "      <td>...</td>\n",
       "      <td>...</td>\n",
       "    </tr>\n",
       "    <tr>\n",
       "      <th>241</th>\n",
       "      <td>1</td>\n",
       "      <td>96</td>\n",
       "      <td>154</td>\n",
       "      <td>56</td>\n",
       "      <td>4</td>\n",
       "      <td>1700</td>\n",
       "    </tr>\n",
       "    <tr>\n",
       "      <th>242</th>\n",
       "      <td>1</td>\n",
       "      <td>96</td>\n",
       "      <td>154</td>\n",
       "      <td>64</td>\n",
       "      <td>4</td>\n",
       "      <td>1850</td>\n",
       "    </tr>\n",
       "    <tr>\n",
       "      <th>243</th>\n",
       "      <td>0</td>\n",
       "      <td>97</td>\n",
       "      <td>186</td>\n",
       "      <td>69</td>\n",
       "      <td>3</td>\n",
       "      <td>1850</td>\n",
       "    </tr>\n",
       "    <tr>\n",
       "      <th>244</th>\n",
       "      <td>0</td>\n",
       "      <td>97</td>\n",
       "      <td>186</td>\n",
       "      <td>81</td>\n",
       "      <td>3</td>\n",
       "      <td>2100</td>\n",
       "    </tr>\n",
       "    <tr>\n",
       "      <th>245</th>\n",
       "      <td>0</td>\n",
       "      <td>97</td>\n",
       "      <td>186</td>\n",
       "      <td>93</td>\n",
       "      <td>3</td>\n",
       "      <td>2350</td>\n",
       "    </tr>\n",
       "  </tbody>\n",
       "</table>\n",
       "<p>246 rows × 6 columns</p>\n",
       "</div>"
      ],
      "text/plain": [
       "     Sex  Age  Height  Weight  Activity  Expected Calories\n",
       "0      1   18     199      79         3               2450\n",
       "1      1   18     199      93         3               2650\n",
       "2      1   18     199     107         3               2850\n",
       "3      0   20     140      39         3               1700\n",
       "4      0   20     140      46         3               1800\n",
       "..   ...  ...     ...     ...       ...                ...\n",
       "241    1   96     154      56         4               1700\n",
       "242    1   96     154      64         4               1850\n",
       "243    0   97     186      69         3               1850\n",
       "244    0   97     186      81         3               2100\n",
       "245    0   97     186      93         3               2350\n",
       "\n",
       "[246 rows x 6 columns]"
      ]
     },
     "execution_count": 5,
     "metadata": {},
     "output_type": "execute_result"
    }
   ],
   "source": [
    "ds"
   ]
  },
  {
   "cell_type": "code",
   "execution_count": 6,
   "metadata": {},
   "outputs": [
    {
     "name": "stdout",
     "output_type": "stream",
     "text": [
      "     Sex  Age  Height  Weight  Activity  Expected Calories\n",
      "0      1   18     199      79         3               2450\n",
      "1      1   18     199      93         3               2650\n",
      "2      1   18     199     107         3               2850\n",
      "3      0   20     140      39         3               1700\n",
      "4      0   20     140      46         3               1800\n",
      "..   ...  ...     ...     ...       ...                ...\n",
      "241    1   96     154      56         4               1700\n",
      "242    1   96     154      64         4               1850\n",
      "243    0   97     186      69         3               1850\n",
      "244    0   97     186      81         3               2100\n",
      "245    0   97     186      93         3               2350\n",
      "\n",
      "[246 rows x 6 columns]\n"
     ]
    }
   ],
   "source": [
    "print(ds)"
   ]
  },
  {
   "cell_type": "code",
   "execution_count": 7,
   "metadata": {},
   "outputs": [
    {
     "data": {
      "text/plain": [
       "123"
      ]
     },
     "execution_count": 7,
     "metadata": {},
     "output_type": "execute_result"
    }
   ],
   "source": [
    "dsm=ds[ds[\"Sex\"]==0]\n",
    "len(dsm)\n"
   ]
  },
  {
   "cell_type": "code",
   "execution_count": 8,
   "metadata": {},
   "outputs": [
    {
     "data": {
      "image/png": "[encoded data removed]",
      "text/plain": [
       "<Figure size 640x480 with 1 Axes>"
      ]
     },
     "metadata": {},
     "output_type": "display_data"
    }
   ],
   "source": [
    "dsm[\"Activity\"].value_counts().plot(kind='bar')\n",
    "plt.xlabel('Unique Values')\n",
    "plt.ylabel('Frequency')\n",
    "plt.title('different activity values')\n",
    "plt.show()"
   ]
  },
  {
   "cell_type": "code",
   "execution_count": 9,
   "metadata": {},
   "outputs": [
    {
     "data": {
      "text/plain": [
       "123"
      ]
     },
     "execution_count": 9,
     "metadata": {},
     "output_type": "execute_result"
    }
   ],
   "source": [
    "dsf=ds[ds[\"Sex\"]==1]\n",
    "len(dsf)"
   ]
  },
  {
   "cell_type": "code",
   "execution_count": 10,
   "metadata": {},
   "outputs": [
    {
     "data": {
      "image/png": "[encoded data removed]",
      "text/plain": [
       "<Figure size 640x480 with 1 Axes>"
      ]
     },
     "metadata": {},
     "output_type": "display_data"
    }
   ],
   "source": [
    "dsf[\"Activity\"].value_counts().plot(kind='bar')\n",
    "plt.xlabel('Unique Values')\n",
    "plt.ylabel('Frequency')\n",
    "plt.title('different activity values')\n",
    "plt.show()"
   ]
  },
  {
   "cell_type": "code",
   "execution_count": 15,
   "metadata": {},
   "outputs": [],
   "source": [
    "y=ds[\"Expected Calories\"].to_numpy()\n",
    "y\n",
    "X = ds.drop(['Expected Calories'], axis=1).to_numpy()\n"
   ]
  },
  {
   "cell_type": "code",
   "execution_count": 20,
   "metadata": {},
   "outputs": [],
   "source": [
    "def linear_function(x,*coeff):\n",
    "    condition1 = (x[:, 0] == 0)  # Check if first column is zero for each row\n",
    "    condition2 = (x[:, 4] == 1)  # Check if fifth column is one for each row\n",
    "    condition3 = (x[:, 4] == 2)  # Check if fifth column is two for each row\n",
    "    condition4 = (x[:, 4] == 3)  # Check if fifth column is three for each row\n",
    "    condition5 = (x[:, 4] == 4)  # Check if fifth column is four for each row\n",
    "    \n",
    "    result = np.zeros(len(x))  # Initialize result array\n",
    "    \n",
    "    # Update result based on conditions\n",
    "    result[condition1 & condition2] = (-x[condition1 & condition2, 1]*coeff[0] + x[condition1 & condition2, 2]*coeff[1] + x[condition1 & condition2, 3]*coeff[2] + coeff[3]) * coeff[8]\n",
    "    result[condition1 & condition3] = (-x[condition1 & condition3, 1]*coeff[0] + x[condition1 & condition3, 2]*coeff[1] + x[condition1 & condition3, 3]*coeff[2] + coeff[3]) * coeff[9]\n",
    "    result[condition1 & condition4] = (-x[condition1 & condition4, 1]*coeff[0] + x[condition1 & condition4, 2]*coeff[1] + x[condition1 & condition4, 3]*coeff[2] + coeff[2]) * coeff[10]\n",
    "    result[~condition1 & condition2] = (-x[~condition1 & condition2, 1]*coeff[4] + x[~condition1 & condition2, 2]*coeff[5] + x[~condition1 & condition2, 3]*coeff[6] + coeff[7]) * coeff[8]\n",
    "    result[~condition1 & condition3] = (-x[~condition1 & condition3, 1]*coeff[4] + x[~condition1 & condition3, 2]*coeff[5] + x[~condition1 & condition3, 3]*coeff[6] + coeff[7]) * coeff[9]\n",
    "    result[~condition1 & condition4] = (-x[~condition1 & condition4, 1]*coeff[4] + x[~condition1 & condition4, 2]*coeff[5] + x[~condition1 & condition4, 3]*coeff[6] + coeff[7]) * coeff[10]\n",
    "    result[condition1 & condition5] = (-x[condition1 & condition5, 1]*coeff[0] + x[condition1 & condition5, 2]*coeff[1] + x[condition1 & condition5, 3]*coeff[2] + coeff[3]) * coeff[11]\n",
    "    return result"
   ]
  },
  {
   "cell_type": "code",
   "execution_count": 13,
   "metadata": {},
   "outputs": [],
   "source": []
  },
  {
   "cell_type": "code",
   "execution_count": 17,
   "metadata": {},
   "outputs": [],
   "source": [
    "coeff=[6.75,5.003,13.75,66.5,4.676,1.850,9.563,665.1,1.2,1.375,1.55,1.725]"
   ]
  },
  {
   "cell_type": "code",
   "execution_count": 21,
   "metadata": {},
   "outputs": [],
   "source": [
    "coeff_fit, _ = curve_fit(linear_function, X, y, p0=coeff)\n"
   ]
  },
  {
   "cell_type": "code",
   "execution_count": 23,
   "metadata": {},
   "outputs": [
    {
     "data": {
      "text/plain": [
       "array([  7.40300629,   5.91606591,  14.91743453,  23.44801225,\n",
       "         5.1473278 ,   2.00398124,  10.70217296, 719.47050621,\n",
       "         1.08497681,   1.19603515,   1.30695392,   1.51996267])"
      ]
     },
     "execution_count": 23,
     "metadata": {},
     "output_type": "execute_result"
    }
   ],
   "source": [
    "coeff_fit"
   ]
  },
  {
   "cell_type": "code",
   "execution_count": 25,
   "metadata": {},
   "outputs": [
    {
     "name": "stdout",
     "output_type": "stream",
     "text": [
      "Mean Squared Error: 341951.9745097536\n"
     ]
    }
   ],
   "source": [
    "y_pred = linear_function(X, *coeff_fit)\n",
    "\n",
    "# Calculate the Mean Squared Error\n",
    "mse = mean_squared_error(y, y_pred)\n",
    "print(\"Mean Squared Error:\", mse)"
   ]
  }
 ],
 "metadata": {
  "kernelspec": {
   "display_name": "space",
   "language": "python",
   "name": "python3"
  },
  "language_info": {
   "codemirror_mode": {
    "name": "ipython",
    "version": 3
   },
   "file_extension": ".py",
   "mimetype": "text/x-python",
   "name": "python",
   "nbconvert_exporter": "python",
   "pygments_lexer": "ipython3",
   "version": "3.9.13"
  }
 },
 "nbformat": 4,
 "nbformat_minor": 2
}
